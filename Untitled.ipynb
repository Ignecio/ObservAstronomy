{
 "cells": [
  {
   "cell_type": "code",
   "execution_count": 64,
   "metadata": {},
   "outputs": [],
   "source": [
    "%matplotlib widget\n",
    "from scipy import ndimage\n",
    "from scipy import misc\n",
    "import imageio\n",
    "import numpy as np\n",
    "import matplotlib.pyplot as plt\n",
    "import copy\n",
    "import astropy\n",
    "from astropy.io import fits"
   ]
  },
  {
   "cell_type": "code",
   "execution_count": 2,
   "metadata": {},
   "outputs": [],
   "source": [
    "bias1= astropy.io.fits.open('bias/Bias1.fit')\n",
    "bias2= astropy.io.fits.open('bias/Bias2.fit')\n",
    "bias3= astropy.io.fits.open('bias/Bias3.fit')\n",
    "bias4= astropy.io.fits.open('bias/Bias4.fit')\n",
    "bias5= astropy.io.fits.open('bias/Bias5.fit')\n",
    "bias6= astropy.io.fits.open('bias/Bias6.fit')\n",
    "bias7= astropy.io.fits.open('bias/Bias7.fit')\n",
    "bias8= astropy.io.fits.open('bias/Bias8.fit')\n",
    "bias9= astropy.io.fits.open('bias/Bias9.fit')"
   ]
  },
  {
   "cell_type": "code",
   "execution_count": 3,
   "metadata": {},
   "outputs": [],
   "source": [
    "master_bias= np.mean(np.array([bias1[0].data,bias2[0].data,bias3[0].data,\\\n",
    "bias4[0].data,bias5[0].data,bias6[0].data,bias7[0].data,bias8[0].data,bias9[0].data]), axis=0)"
   ]
  },
  {
   "cell_type": "code",
   "execution_count": 4,
   "metadata": {},
   "outputs": [],
   "source": [
    "bias1,bias2,bias3,bias4,bias5,bias6,bias7,bias8,bias9= (None,)*9"
   ]
  },
  {
   "cell_type": "code",
   "execution_count": 5,
   "metadata": {},
   "outputs": [],
   "source": [
    "dark1= astropy.io.fits.open('darks/Dark1.fit')\n",
    "dark2= astropy.io.fits.open('darks/Dark2.fit')\n",
    "dark3= astropy.io.fits.open('darks/Dark3.fit')\n",
    "dark4= astropy.io.fits.open('darks/Dark4.fit')\n",
    "dark5= astropy.io.fits.open('darks/Dark5.fit')\n",
    "dark6= astropy.io.fits.open('darks/Dark6.fit')\n",
    "dark7= astropy.io.fits.open('darks/Dark7.fit')\n",
    "dark8= astropy.io.fits.open('darks/Dark8.fit')\n",
    "dark9= astropy.io.fits.open('darks/Dark9.fit')"
   ]
  },
  {
   "cell_type": "code",
   "execution_count": 6,
   "metadata": {},
   "outputs": [],
   "source": [
    "darklist= np.array([dark1[0].data, dark2[0].data, dark3[0].data, dark4[0].data,\\\n",
    "dark5[0].data, dark6[0].data, dark7[0].data, dark8[0].data, dark9[0].data]) - master_bias"
   ]
  },
  {
   "cell_type": "code",
   "execution_count": 7,
   "metadata": {},
   "outputs": [],
   "source": [
    "dark1,dark2,dark3,dark4,dark5,dark6,dark7,dark8,dark9 = (None,)*9"
   ]
  },
  {
   "cell_type": "code",
   "execution_count": 8,
   "metadata": {},
   "outputs": [],
   "source": [
    "master_dark= np.median(darklist, axis=0)"
   ]
  },
  {
   "cell_type": "code",
   "execution_count": 9,
   "metadata": {},
   "outputs": [],
   "source": [
    "darkybias= master_dark + master_bias"
   ]
  },
  {
   "cell_type": "code",
   "execution_count": 10,
   "metadata": {},
   "outputs": [],
   "source": [
    "flatB1= astropy.io.fits.open('flats/FlatB1.fit')\n",
    "flatB2= astropy.io.fits.open('flats/FlatB2.fit')\n",
    "flatB3= astropy.io.fits.open('flats/FlatB3.fit')\n",
    "flatB4= astropy.io.fits.open('flats/FlatB4.fit')\n",
    "flatB5= astropy.io.fits.open('flats/FlatB5.fit')\n",
    "flatB6= astropy.io.fits.open('flats/FlatB6.fit')\n",
    "flatB7= astropy.io.fits.open('flats/FlatB7.fit')\n",
    "flatB8= astropy.io.fits.open('flats/FlatB8.fit')\n",
    "flatB9= astropy.io.fits.open('flats/FlatB9.fit')"
   ]
  },
  {
   "cell_type": "code",
   "execution_count": 12,
   "metadata": {},
   "outputs": [],
   "source": [
    "flatBlist= np.mean(np.array([flatB1[0].data, flatB2[0].data, flatB3[0].data, flatB4[0].data, flatB5[0].data,\\\n",
    "flatB6[0].data, flatB7[0].data, flatB8[0].data, flatB9[0].data]), axis=0)"
   ]
  },
  {
   "cell_type": "code",
   "execution_count": 14,
   "metadata": {},
   "outputs": [],
   "source": [
    "flatB1,flatB2,flatB3,flatB4,flatB5,flatB6,flatB7,flatB8,flatB9=(None,)*9"
   ]
  },
  {
   "cell_type": "code",
   "execution_count": 15,
   "metadata": {},
   "outputs": [],
   "source": [
    "master_flat_B= (flatBlist-darkybias)/(np.median(flatBlist-darkybias))"
   ]
  },
  {
   "cell_type": "code",
   "execution_count": 16,
   "metadata": {},
   "outputs": [],
   "source": [
    "flati1= astropy.io.fits.open('flats/Flati1.fit')\n",
    "flati2= astropy.io.fits.open('flats/Flati2.fit')\n",
    "flati3= astropy.io.fits.open('flats/Flati3.fit')\n",
    "flati4= astropy.io.fits.open('flats/Flati4.fit')\n",
    "flati5= astropy.io.fits.open('flats/Flati5.fit')\n",
    "flati6= astropy.io.fits.open('flats/Flati6.fit')\n",
    "flati7= astropy.io.fits.open('flats/Flati7.fit')\n",
    "flati8= astropy.io.fits.open('flats/Flati8.fit')\n",
    "flati9= astropy.io.fits.open('flats/Flati9.fit')"
   ]
  },
  {
   "cell_type": "code",
   "execution_count": 17,
   "metadata": {},
   "outputs": [],
   "source": [
    "flatilist= np.mean(np.array([flati1[0].data, flati2[0].data, flati3[0].data, flati4[0].data, flati5[0].data,\\\n",
    "flati6[0].data, flati7[0].data, flati8[0].data, flati9[0].data]), axis=0)"
   ]
  },
  {
   "cell_type": "code",
   "execution_count": 18,
   "metadata": {},
   "outputs": [],
   "source": [
    "flati1,flati2,flati3,flati4,flati5,flati6,flati7,flati8,flati9=(None,)*9"
   ]
  },
  {
   "cell_type": "code",
   "execution_count": 19,
   "metadata": {},
   "outputs": [],
   "source": [
    "master_flat_i= (flatilist-darkybias)/(np.median(flatilist-darkybias))"
   ]
  },
  {
   "cell_type": "code",
   "execution_count": 20,
   "metadata": {},
   "outputs": [],
   "source": [
    "flatr1= astropy.io.fits.open('flats/Flatr1.fit')\n",
    "flatr2= astropy.io.fits.open('flats/Flatr2.fit')\n",
    "flatr3= astropy.io.fits.open('flats/Flatr3.fit')\n",
    "flatr4= astropy.io.fits.open('flats/Flatr4.fit')\n",
    "flatr5= astropy.io.fits.open('flats/Flatr5.fit')\n",
    "flatr6= astropy.io.fits.open('flats/Flatr6.fit')\n",
    "flatr7= astropy.io.fits.open('flats/Flatr7.fit')\n",
    "flatr8= astropy.io.fits.open('flats/Flatr8.fit')\n",
    "flatr9= astropy.io.fits.open('flats/Flatr9.fit')"
   ]
  },
  {
   "cell_type": "code",
   "execution_count": 21,
   "metadata": {},
   "outputs": [],
   "source": [
    "flatrlist= np.mean(np.array([flatr1[0].data, flatr2[0].data, flatr3[0].data, flatr4[0].data, flatr5[0].data,\\\n",
    "flatr6[0].data, flatr7[0].data, flatr8[0].data, flatr9[0].data]), axis=0)"
   ]
  },
  {
   "cell_type": "code",
   "execution_count": 22,
   "metadata": {},
   "outputs": [],
   "source": [
    "flatr1,flatr2,flatr3,flatr4,flatr5,flatr6,flatr7,flatr8,flatr9=(None,)*9"
   ]
  },
  {
   "cell_type": "code",
   "execution_count": 23,
   "metadata": {},
   "outputs": [],
   "source": [
    "master_flat_r= (flatrlist - darkybias)/(np.median(flatrlist - darkybias))"
   ]
  },
  {
   "cell_type": "code",
   "execution_count": 24,
   "metadata": {},
   "outputs": [],
   "source": [
    "master_bias,master_dark=(None,None)"
   ]
  },
  {
   "cell_type": "code",
   "execution_count": 25,
   "metadata": {},
   "outputs": [],
   "source": [
    "np.random.seed(1)\n",
    "px=np.random.randint(0,4096,size=100)\n",
    "py=np.random.randint(0,4096,size=100)\n",
    "rayos=np.vstack([px,py]).T\n",
    "B1= astropy.io.fits.open('lights/B1.fit')\n",
    "B1d= B1[0].data\n",
    "for i in range(100):\n",
    "    B1d[rayos[i,0],rayos[i,1]]=60000 \n",
    "    B1d[rayos[i,0],rayos[i,1]+1]=60000\n",
    "    B1d[rayos[i,0],rayos[i,1]+2]=60000\n",
    "    B1d[rayos[i,0],rayos[i,1]+3]=60000\n",
    "    B1d[rayos[i,0],rayos[i,1]-1]=60000\n",
    "    B1d[rayos[i,0],rayos[i,1]-2]=60000\n",
    "    B1d[rayos[i,0],rayos[i,1]-3]=60000 "
   ]
  },
  {
   "cell_type": "code",
   "execution_count": 26,
   "metadata": {},
   "outputs": [],
   "source": [
    "np.random.seed(2)\n",
    "px2=np.random.randint(0,4096,size=100)\n",
    "py2=np.random.randint(0,4096,size=100)\n",
    "rayos2=np.vstack([px2,py2]).T\n",
    "B2= astropy.io.fits.open('lights/B2.fit')\n",
    "B2d= B2[0].data\n",
    "for i in range(100):\n",
    "    B2d[rayos2[i,0],rayos2[i,1]]=60000 \n",
    "    B2d[rayos2[i,0],rayos2[i,1]+1]=60000\n",
    "    B2d[rayos2[i,0],rayos2[i,1]+2]=60000\n",
    "    B2d[rayos2[i,0],rayos2[i,1]+3]=60000\n",
    "    B2d[rayos2[i,0],rayos2[i,1]-1]=60000\n",
    "    B2d[rayos2[i,0],rayos2[i,1]-2]=60000\n",
    "    B2d[rayos2[i,0],rayos2[i,1]-3]=60000 "
   ]
  },
  {
   "cell_type": "code",
   "execution_count": 27,
   "metadata": {},
   "outputs": [],
   "source": [
    "np.random.seed(3)\n",
    "px3=np.random.randint(0,4096,size=100)\n",
    "py3=np.random.randint(0,4096,size=100)\n",
    "rayos3=np.vstack([px3,py3]).T\n",
    "B3= astropy.io.fits.open('lights/B3.fit')\n",
    "B3d= B3[0].data\n",
    "for i in range(100):\n",
    "    B3d[rayos3[i,0],rayos3[i,1]]=60000 \n",
    "    B3d[rayos3[i,0],rayos3[i,1]+1]=60000\n",
    "    B3d[rayos3[i,0],rayos3[i,1]+2]=60000\n",
    "    B3d[rayos3[i,0],rayos3[i,1]+3]=60000\n",
    "    B3d[rayos3[i,0],rayos3[i,1]-1]=60000\n",
    "    B3d[rayos3[i,0],rayos3[i,1]-2]=60000\n",
    "    B3d[rayos3[i,0],rayos3[i,1]-3]=60000 "
   ]
  },
  {
   "cell_type": "code",
   "execution_count": 29,
   "metadata": {},
   "outputs": [],
   "source": [
    "np.random.seed(4)\n",
    "px4=np.random.randint(0,4096,size=100)\n",
    "py4=np.random.randint(0,4096,size=100)\n",
    "rayos4=np.vstack([px4,py4]).T\n",
    "Si1= astropy.io.fits.open('lights/Si1.fit')\n",
    "Si1d= Si1[0].data\n",
    "for i in range(100):\n",
    "    Si1d[rayos4[i,0],rayos4[i,1]]=60000 \n",
    "    Si1d[rayos4[i,0],rayos4[i,1]+1]=60000\n",
    "    Si1d[rayos4[i,0],rayos4[i,1]+2]=60000\n",
    "    Si1d[rayos4[i,0],rayos4[i,1]+3]=60000\n",
    "    Si1d[rayos4[i,0],rayos4[i,1]-1]=60000\n",
    "    Si1d[rayos4[i,0],rayos4[i,1]-2]=60000\n",
    "    Si1d[rayos4[i,0],rayos4[i,1]-3]=60000 "
   ]
  },
  {
   "cell_type": "code",
   "execution_count": 30,
   "metadata": {},
   "outputs": [],
   "source": [
    "np.random.seed(5)\n",
    "px5=np.random.randint(0,4096,size=100)\n",
    "py5=np.random.randint(0,4096,size=100)\n",
    "rayos5=np.vstack([px5,py5]).T\n",
    "Si2= astropy.io.fits.open('lights/Si2.fit')\n",
    "Si2d= Si2[0].data\n",
    "for i in range(100):\n",
    "    Si2d[rayos5[i,0],rayos5[i,1]]=60000 \n",
    "    Si2d[rayos5[i,0],rayos5[i,1]+1]=60000\n",
    "    Si2d[rayos5[i,0],rayos5[i,1]+2]=60000\n",
    "    Si2d[rayos5[i,0],rayos5[i,1]+3]=60000\n",
    "    Si2d[rayos5[i,0],rayos5[i,1]-1]=60000\n",
    "    Si2d[rayos5[i,0],rayos5[i,1]-2]=60000\n",
    "    Si2d[rayos5[i,0],rayos5[i,1]-3]=60000 "
   ]
  },
  {
   "cell_type": "code",
   "execution_count": 31,
   "metadata": {},
   "outputs": [],
   "source": [
    "np.random.seed(6)\n",
    "px6=np.random.randint(0,4096,size=100)\n",
    "py6=np.random.randint(0,4096,size=100)\n",
    "rayos6=np.vstack([px6,py6]).T\n",
    "Si3= astropy.io.fits.open('lights/Si3.fit')\n",
    "Si3d= Si3[0].data\n",
    "for i in range(100):\n",
    "    Si3d[rayos6[i,0],rayos6[i,1]]=60000 \n",
    "    Si3d[rayos6[i,0],rayos6[i,1]+1]=60000\n",
    "    Si3d[rayos6[i,0],rayos6[i,1]+2]=60000\n",
    "    Si3d[rayos6[i,0],rayos6[i,1]+3]=60000\n",
    "    Si3d[rayos6[i,0],rayos6[i,1]-1]=60000\n",
    "    Si3d[rayos6[i,0],rayos6[i,1]-2]=60000\n",
    "    Si3d[rayos6[i,0],rayos6[i,1]-3]=60000 "
   ]
  },
  {
   "cell_type": "code",
   "execution_count": 32,
   "metadata": {},
   "outputs": [],
   "source": [
    "np.random.seed(7)\n",
    "px7=np.random.randint(0,4096,size=100)\n",
    "py7=np.random.randint(0,4096,size=100)\n",
    "rayos7=np.vstack([px7,py7]).T\n",
    "Sr1= astropy.io.fits.open('lights/Sr1.fit')\n",
    "Sr1d= Sr1[0].data\n",
    "for i in range(100):\n",
    "    Sr1d[rayos7[i,0],rayos7[i,1]]=60000 \n",
    "    Sr1d[rayos7[i,0],rayos7[i,1]+1]=60000\n",
    "    Sr1d[rayos7[i,0],rayos7[i,1]+2]=60000\n",
    "    Sr1d[rayos7[i,0],rayos7[i,1]+3]=60000\n",
    "    Sr1d[rayos7[i,0],rayos7[i,1]-1]=60000\n",
    "    Sr1d[rayos7[i,0],rayos7[i,1]-2]=60000\n",
    "    Sr1d[rayos7[i,0],rayos7[i,1]-3]=60000 "
   ]
  },
  {
   "cell_type": "code",
   "execution_count": 33,
   "metadata": {},
   "outputs": [],
   "source": [
    "np.random.seed(8)\n",
    "px8=np.random.randint(0,4096,size=100)\n",
    "py8=np.random.randint(0,4096,size=100)\n",
    "rayos8=np.vstack([px8,py8]).T\n",
    "Sr2= astropy.io.fits.open('lights/Sr2.fit')\n",
    "Sr2d= Sr2[0].data\n",
    "for i in range(100):\n",
    "    Sr2d[rayos8[i,0],rayos8[i,1]]=60000 \n",
    "    Sr2d[rayos8[i,0],rayos8[i,1]+1]=60000\n",
    "    Sr2d[rayos8[i,0],rayos8[i,1]+2]=60000\n",
    "    Sr2d[rayos8[i,0],rayos8[i,1]+3]=60000\n",
    "    Sr2d[rayos8[i,0],rayos8[i,1]-1]=60000\n",
    "    Sr2d[rayos8[i,0],rayos8[i,1]-2]=60000\n",
    "    Sr2d[rayos8[i,0],rayos8[i,1]-3]=60000 "
   ]
  },
  {
   "cell_type": "code",
   "execution_count": 34,
   "metadata": {},
   "outputs": [],
   "source": [
    "np.random.seed(9)\n",
    "px9=np.random.randint(0,4096,size=100)\n",
    "py9=np.random.randint(0,4096,size=100)\n",
    "rayos9=np.vstack([px9,py9]).T\n",
    "Sr3= astropy.io.fits.open('lights/Sr3.fit')\n",
    "Sr3d= Sr3[0].data\n",
    "for i in range(100):\n",
    "    Sr3d[rayos9[i,0],rayos9[i,1]]=60000 \n",
    "    Sr3d[rayos9[i,0],rayos9[i,1]+1]=60000\n",
    "    Sr3d[rayos9[i,0],rayos9[i,1]+2]=60000\n",
    "    Sr3d[rayos9[i,0],rayos9[i,1]+3]=60000\n",
    "    Sr3d[rayos9[i,0],rayos9[i,1]-1]=60000\n",
    "    Sr3d[rayos9[i,0],rayos9[i,1]-2]=60000\n",
    "    Sr3d[rayos9[i,0],rayos9[i,1]-3]=60000 "
   ]
  },
  {
   "cell_type": "code",
   "execution_count": 35,
   "metadata": {},
   "outputs": [],
   "source": [
    "BR1=(B1d-darkybias)/(master_flat_B)"
   ]
  },
  {
   "cell_type": "code",
   "execution_count": 36,
   "metadata": {},
   "outputs": [],
   "source": [
    "BR2=(B2d-darkybias)/(master_flat_B)"
   ]
  },
  {
   "cell_type": "code",
   "execution_count": 37,
   "metadata": {},
   "outputs": [],
   "source": [
    "BR3=(B3d-darkybias)/(master_flat_B)"
   ]
  },
  {
   "cell_type": "code",
   "execution_count": 38,
   "metadata": {},
   "outputs": [],
   "source": [
    "SiR1=(Si1d-darkybias)/(master_flat_i)"
   ]
  },
  {
   "cell_type": "code",
   "execution_count": 39,
   "metadata": {},
   "outputs": [],
   "source": [
    "SiR2=(Si2d-darkybias)/(master_flat_i)"
   ]
  },
  {
   "cell_type": "code",
   "execution_count": 40,
   "metadata": {},
   "outputs": [],
   "source": [
    "SiR3=(Si3d-darkybias)/(master_flat_i)"
   ]
  },
  {
   "cell_type": "code",
   "execution_count": 41,
   "metadata": {},
   "outputs": [],
   "source": [
    "SrR1=(Sr1d-darkybias)/(master_flat_r)"
   ]
  },
  {
   "cell_type": "code",
   "execution_count": 42,
   "metadata": {},
   "outputs": [],
   "source": [
    "SrR2=(Sr2d-darkybias)/(master_flat_r)"
   ]
  },
  {
   "cell_type": "code",
   "execution_count": 43,
   "metadata": {},
   "outputs": [],
   "source": [
    "SrR3=(Sr3d-darkybias)/(master_flat_r)"
   ]
  },
  {
   "cell_type": "code",
   "execution_count": 44,
   "metadata": {},
   "outputs": [],
   "source": [
    "B=np.median(np.array([BR1,BR2,BR3]),axis=0)"
   ]
  },
  {
   "cell_type": "code",
   "execution_count": 45,
   "metadata": {},
   "outputs": [],
   "source": [
    "Si=np.median(np.array([SiR1,SiR2,SiR3]),axis=0)"
   ]
  },
  {
   "cell_type": "code",
   "execution_count": 46,
   "metadata": {},
   "outputs": [],
   "source": [
    "Sr=np.median(np.array([SrR1,SrR2,SrR3]),axis=0)"
   ]
  },
  {
   "cell_type": "code",
   "execution_count": 65,
   "metadata": {},
   "outputs": [
    {
     "data": {
      "application/vnd.jupyter.widget-view+json": {
       "model_id": "9ff6d01682e54c02bc27d98866d3d478",
       "version_major": 2,
       "version_minor": 0
      },
      "text/plain": [
       "Canvas(toolbar=Toolbar(toolitems=[('Home', 'Reset original view', 'home', 'home'), ('Back', 'Back to previous …"
      ]
     },
     "metadata": {},
     "output_type": "display_data"
    }
   ],
   "source": [
    "#test= astropy.io.fits.open('')\n",
    "#data= test[0].data\n",
    "plt.imshow(Sr,cmap='gray',vmin=0,vmax=np.mean(Sr)+np.std(Sr))\n",
    "plt.colorbar()\n",
    "plt.show()"
   ]
  },
  {
   "cell_type": "code",
   "execution_count": null,
   "metadata": {},
   "outputs": [],
   "source": []
  }
 ],
 "metadata": {
  "kernelspec": {
   "display_name": "Python 3 (ipykernel)",
   "language": "python",
   "name": "python3"
  },
  "language_info": {
   "codemirror_mode": {
    "name": "ipython",
    "version": 3
   },
   "file_extension": ".py",
   "mimetype": "text/x-python",
   "name": "python",
   "nbconvert_exporter": "python",
   "pygments_lexer": "ipython3",
   "version": "3.8.12"
  }
 },
 "nbformat": 4,
 "nbformat_minor": 4
}
