{
 "cells": [
  {
   "cell_type": "code",
   "execution_count": 28,
   "metadata": {},
   "outputs": [],
   "source": [
    "%matplotlib widget\n",
    "from scipy import ndimage\n",
    "from scipy import misc\n",
    "import imageio\n",
    "import numpy as np\n",
    "import matplotlib.pyplot as plt\n",
    "import copy\n",
    "import astropy\n",
    "from astropy.io import fits"
   ]
  },
  {
   "cell_type": "code",
   "execution_count": 2,
   "metadata": {},
   "outputs": [],
   "source": [
    "bias1= astropy.io.fits.open('bias/Bias1.fit')\n",
    "bias2= astropy.io.fits.open('bias/Bias2.fit')\n",
    "bias3= astropy.io.fits.open('bias/Bias3.fit')\n",
    "bias4= astropy.io.fits.open('bias/Bias4.fit')\n",
    "bias5= astropy.io.fits.open('bias/Bias5.fit')\n",
    "bias6= astropy.io.fits.open('bias/Bias6.fit')\n",
    "bias7= astropy.io.fits.open('bias/Bias7.fit')\n",
    "bias8= astropy.io.fits.open('bias/Bias8.fit')\n",
    "bias9= astropy.io.fits.open('bias/Bias9.fit')"
   ]
  },
  {
   "cell_type": "code",
   "execution_count": 3,
   "metadata": {},
   "outputs": [],
   "source": [
    "master_bias= np.mean(np.array([bias1[0].data,bias2[0].data,bias3[0].data,\\\n",
    "bias4[0].data,bias5[0].data,bias6[0].data,bias7[0].data,bias8[0].data,bias9[0].data]), axis=0)"
   ]
  },
  {
   "cell_type": "code",
   "execution_count": 4,
   "metadata": {},
   "outputs": [],
   "source": [
    "dark1= astropy.io.fits.open('darks/Dark1.fit')\n",
    "dark2= astropy.io.fits.open('darks/Dark2.fit')\n",
    "dark3= astropy.io.fits.open('darks/Dark3.fit')\n",
    "dark4= astropy.io.fits.open('darks/Dark4.fit')\n",
    "dark5= astropy.io.fits.open('darks/Dark5.fit')\n",
    "dark6= astropy.io.fits.open('darks/Dark6.fit')\n",
    "dark7= astropy.io.fits.open('darks/Dark7.fit')\n",
    "dark8= astropy.io.fits.open('darks/Dark8.fit')\n",
    "dark9= astropy.io.fits.open('darks/Dark9.fit')"
   ]
  },
  {
   "cell_type": "code",
   "execution_count": 5,
   "metadata": {},
   "outputs": [],
   "source": [
    "darklist= np.array([dark1[0].data, dark2[0].data, dark3[0].data, dark4[0].data,\\\n",
    "dark5[0].data, dark6[0].data, dark7[0].data, dark8[0].data, dark9[0].data]) - master_bias"
   ]
  },
  {
   "cell_type": "code",
   "execution_count": 6,
   "metadata": {},
   "outputs": [],
   "source": [
    "master_dark= np.median(darklist, axis=0)"
   ]
  },
  {
   "cell_type": "code",
   "execution_count": 7,
   "metadata": {},
   "outputs": [],
   "source": [
    "darkybias= master_dark + master_bias"
   ]
  },
  {
   "cell_type": "code",
   "execution_count": 8,
   "metadata": {},
   "outputs": [],
   "source": [
    "B1= astropy.io.fits.open('lights/B1.fit')\n",
    "B1redux= B1[0].data - darkybias"
   ]
  },
  {
   "cell_type": "code",
   "execution_count": 29,
   "metadata": {},
   "outputs": [
    {
     "data": {
      "application/vnd.jupyter.widget-view+json": {
       "model_id": "8b5e601fa55a4a999d094cf282cfb80b",
       "version_major": 2,
       "version_minor": 0
      },
      "text/plain": [
       "Canvas(toolbar=Toolbar(toolitems=[('Home', 'Reset original view', 'home', 'home'), ('Back', 'Back to previous …"
      ]
     },
     "metadata": {},
     "output_type": "display_data"
    }
   ],
   "source": [
    "#test= astropy.io.fits.open('')\n",
    "#data= test[0].data\n",
    "plt.imshow(B1redux,cmap='gray',vmin=0,vmax=150)\n",
    "plt.colorbar()\n",
    "plt.show()"
   ]
  },
  {
   "cell_type": "code",
   "execution_count": 34,
   "metadata": {},
   "outputs": [
    {
     "data": {
      "text/plain": [
       "array([[  8., -14.,  -2., ...,  10.,   1.,   4.],\n",
       "       [ 22.,   4.,   5., ...,   6.,  -5.,  15.],\n",
       "       [ -2.,  12.,  11., ..., -17.,   5.,  -3.],\n",
       "       ...,\n",
       "       [ 18.,  -5.,  -2., ...,  -1.,  11.,  20.],\n",
       "       [ -6.,   3.,  -6., ...,   6., -13., -17.],\n",
       "       [  3.,  -7.,   9., ...,  -6.,  15.,  16.]])"
      ]
     },
     "execution_count": 34,
     "metadata": {},
     "output_type": "execute_result"
    }
   ],
   "source": [
    "B1redux"
   ]
  },
  {
   "cell_type": "code",
   "execution_count": 9,
   "metadata": {},
   "outputs": [
    {
     "data": {
      "application/vnd.jupyter.widget-view+json": {
       "model_id": "5cdf1a8d039e4240af1c05c86a5fbc41",
       "version_major": 2,
       "version_minor": 0
      },
      "text/plain": [
       "Canvas(toolbar=Toolbar(toolitems=[('Home', 'Reset original view', 'home', 'home'), ('Back', 'Back to previous …"
      ]
     },
     "metadata": {},
     "output_type": "display_data"
    }
   ],
   "source": [
    "# basic RGB\n",
    "f = misc.face()\n",
    "imageio.imsave('face.png', f) \n",
    "plt.imshow(f)\n",
    "plt.show()"
   ]
  }
 ],
 "metadata": {
  "kernelspec": {
   "display_name": "Python 3 (ipykernel)",
   "language": "python",
   "name": "python3"
  },
  "language_info": {
   "codemirror_mode": {
    "name": "ipython",
    "version": 3
   },
   "file_extension": ".py",
   "mimetype": "text/x-python",
   "name": "python",
   "nbconvert_exporter": "python",
   "pygments_lexer": "ipython3",
   "version": "3.8.12"
  }
 },
 "nbformat": 4,
 "nbformat_minor": 4
}
