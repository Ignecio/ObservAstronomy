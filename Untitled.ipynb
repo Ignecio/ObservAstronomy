{
 "cells": [
  {
   "cell_type": "code",
   "execution_count": 33,
   "metadata": {},
   "outputs": [],
   "source": [
    "%matplotlib widget\n",
    "from scipy import ndimage\n",
    "from scipy import misc\n",
    "import imageio\n",
    "import numpy as np\n",
    "import matplotlib.pyplot as plt\n",
    "import copy\n",
    "import astropy\n",
    "from astropy.io import fits"
   ]
  },
  {
   "cell_type": "code",
   "execution_count": 2,
   "metadata": {},
   "outputs": [],
   "source": [
    "bias1= astropy.io.fits.open('bias/Bias1.fit')\n",
    "bias2= astropy.io.fits.open('bias/Bias2.fit')\n",
    "bias3= astropy.io.fits.open('bias/Bias3.fit')\n",
    "bias4= astropy.io.fits.open('bias/Bias4.fit')\n",
    "bias5= astropy.io.fits.open('bias/Bias5.fit')\n",
    "bias6= astropy.io.fits.open('bias/Bias6.fit')\n",
    "bias7= astropy.io.fits.open('bias/Bias7.fit')\n",
    "bias8= astropy.io.fits.open('bias/Bias8.fit')\n",
    "bias9= astropy.io.fits.open('bias/Bias9.fit')"
   ]
  },
  {
   "cell_type": "code",
   "execution_count": 3,
   "metadata": {},
   "outputs": [],
   "source": [
    "master_bias= np.mean(np.array([bias1[0].data,bias2[0].data,bias3[0].data,\\\n",
    "bias4[0].data,bias5[0].data,bias6[0].data,bias7[0].data,bias8[0].data,bias9[0].data]), axis=0)"
   ]
  },
  {
   "cell_type": "code",
   "execution_count": 4,
   "metadata": {},
   "outputs": [],
   "source": [
    "dark1= astropy.io.fits.open('darks/Dark1.fit')\n",
    "dark2= astropy.io.fits.open('darks/Dark2.fit')\n",
    "dark3= astropy.io.fits.open('darks/Dark3.fit')\n",
    "dark4= astropy.io.fits.open('darks/Dark4.fit')\n",
    "dark5= astropy.io.fits.open('darks/Dark5.fit')\n",
    "dark6= astropy.io.fits.open('darks/Dark6.fit')\n",
    "dark7= astropy.io.fits.open('darks/Dark7.fit')\n",
    "dark8= astropy.io.fits.open('darks/Dark8.fit')\n",
    "dark9= astropy.io.fits.open('darks/Dark9.fit')"
   ]
  },
  {
   "cell_type": "code",
   "execution_count": 5,
   "metadata": {},
   "outputs": [],
   "source": [
    "darklist= np.array([dark1[0].data, dark2[0].data, dark3[0].data, dark4[0].data,\\\n",
    "dark5[0].data, dark6[0].data, dark7[0].data, dark8[0].data, dark9[0].data]) - master_bias"
   ]
  },
  {
   "cell_type": "code",
   "execution_count": 6,
   "metadata": {},
   "outputs": [],
   "source": [
    "master_dark= np.median(darklist, axis=0)"
   ]
  },
  {
   "cell_type": "code",
   "execution_count": 7,
   "metadata": {},
   "outputs": [],
   "source": [
    "darkybias= master_dark + master_bias"
   ]
  },
  {
   "cell_type": "code",
   "execution_count": 8,
   "metadata": {},
   "outputs": [],
   "source": [
    "flatB1= astropy.io.fits.open('flats/FlatB1.fit')\n",
    "flatB2= astropy.io.fits.open('flats/FlatB2.fit')\n",
    "flatB3= astropy.io.fits.open('flats/FlatB3.fit')\n",
    "flatB4= astropy.io.fits.open('flats/FlatB4.fit')\n",
    "flatB5= astropy.io.fits.open('flats/FlatB5.fit')\n",
    "flatB6= astropy.io.fits.open('flats/FlatB6.fit')\n",
    "flatB7= astropy.io.fits.open('flats/FlatB7.fit')\n",
    "flatB8= astropy.io.fits.open('flats/FlatB8.fit')\n",
    "flatB9= astropy.io.fits.open('flats/FlatB9.fit')\n",
    "flatB10= astropy.io.fits.open('flats/FlatB10.fit')"
   ]
  },
  {
   "cell_type": "code",
   "execution_count": 11,
   "metadata": {},
   "outputs": [],
   "source": [
    "flatBlist= np.mean(np.array([flatB1[0].data, flatB2[0].data, flatB3[0].data, flatB4[0].data, flatB5[0].data,\\\n",
    "flatB6[0].data, flatB7[0].data, flatB8[0].data, flatB9[0].data, flatB10[0].data]), axis=0)"
   ]
  },
  {
   "cell_type": "code",
   "execution_count": 12,
   "metadata": {},
   "outputs": [],
   "source": [
    "master_flat_B= flatBlist - darkybias"
   ]
  },
  {
   "cell_type": "code",
   "execution_count": 29,
   "metadata": {},
   "outputs": [],
   "source": [
    "B1= astropy.io.fits.open('lights/B1.fit')\n",
    "B1redux= np.divide(B1[0].data - darkybias, master_flat_B)"
   ]
  },
  {
   "cell_type": "code",
   "execution_count": 30,
   "metadata": {},
   "outputs": [
    {
     "data": {
      "text/plain": [
       "(4096, 4096)"
      ]
     },
     "execution_count": 30,
     "metadata": {},
     "output_type": "execute_result"
    }
   ],
   "source": [
    "B1redux.shape"
   ]
  },
  {
   "cell_type": "code",
   "execution_count": 26,
   "metadata": {},
   "outputs": [
    {
     "name": "stdout",
     "output_type": "stream",
     "text": [
      "38200.342672288396\n",
      "4577.395266879939\n"
     ]
    }
   ],
   "source": [
    "print(np.mean(master_flat_B))\n",
    "print(np.std(master_flat_B))"
   ]
  },
  {
   "cell_type": "code",
   "execution_count": 34,
   "metadata": {},
   "outputs": [
    {
     "data": {
      "application/vnd.jupyter.widget-view+json": {
       "model_id": "ddfc1c09d3b64e889d387dead18992a7",
       "version_major": 2,
       "version_minor": 0
      },
      "text/plain": [
       "Canvas(toolbar=Toolbar(toolitems=[('Home', 'Reset original view', 'home', 'home'), ('Back', 'Back to previous …"
      ]
     },
     "metadata": {},
     "output_type": "display_data"
    }
   ],
   "source": [
    "#test= astropy.io.fits.open('')\n",
    "#data= test[0].data\n",
    "plt.imshow(B1redux,cmap='gray',vmin=0,vmax=np.mean(B1redux)+np.std(B1redux))\n",
    "plt.colorbar()\n",
    "plt.show()"
   ]
  },
  {
   "cell_type": "code",
   "execution_count": 34,
   "metadata": {},
   "outputs": [
    {
     "data": {
      "text/plain": [
       "array([[  8., -14.,  -2., ...,  10.,   1.,   4.],\n",
       "       [ 22.,   4.,   5., ...,   6.,  -5.,  15.],\n",
       "       [ -2.,  12.,  11., ..., -17.,   5.,  -3.],\n",
       "       ...,\n",
       "       [ 18.,  -5.,  -2., ...,  -1.,  11.,  20.],\n",
       "       [ -6.,   3.,  -6., ...,   6., -13., -17.],\n",
       "       [  3.,  -7.,   9., ...,  -6.,  15.,  16.]])"
      ]
     },
     "execution_count": 34,
     "metadata": {},
     "output_type": "execute_result"
    }
   ],
   "source": [
    "B1redux"
   ]
  },
  {
   "cell_type": "code",
   "execution_count": 9,
   "metadata": {},
   "outputs": [
    {
     "data": {
      "application/vnd.jupyter.widget-view+json": {
       "model_id": "5cdf1a8d039e4240af1c05c86a5fbc41",
       "version_major": 2,
       "version_minor": 0
      },
      "text/plain": [
       "Canvas(toolbar=Toolbar(toolitems=[('Home', 'Reset original view', 'home', 'home'), ('Back', 'Back to previous …"
      ]
     },
     "metadata": {},
     "output_type": "display_data"
    }
   ],
   "source": [
    "# basic RGB\n",
    "f = misc.face()\n",
    "imageio.imsave('face.png', f) \n",
    "plt.imshow(f)\n",
    "plt.show()"
   ]
  }
 ],
 "metadata": {
  "kernelspec": {
   "display_name": "Python 3 (ipykernel)",
   "language": "python",
   "name": "python3"
  },
  "language_info": {
   "codemirror_mode": {
    "name": "ipython",
    "version": 3
   },
   "file_extension": ".py",
   "mimetype": "text/x-python",
   "name": "python",
   "nbconvert_exporter": "python",
   "pygments_lexer": "ipython3",
   "version": "3.8.12"
  }
 },
 "nbformat": 4,
 "nbformat_minor": 4
}
